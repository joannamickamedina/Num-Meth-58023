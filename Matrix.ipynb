{
  "nbformat": 4,
  "nbformat_minor": 0,
  "metadata": {
    "colab": {
      "provenance": [],
      "authorship_tag": "ABX9TyP7rQNWVQnkpQBwC533voqs",
      "include_colab_link": true
    },
    "kernelspec": {
      "name": "python3",
      "display_name": "Python 3"
    },
    "language_info": {
      "name": "python"
    }
  },
  "cells": [
    {
      "cell_type": "markdown",
      "metadata": {
        "id": "view-in-github",
        "colab_type": "text"
      },
      "source": [
        "<a href=\"https://colab.research.google.com/github/joannamickamedina/Num-Meth-58023/blob/main/Matrix.ipynb\" target=\"_parent\"><img src=\"https://colab.research.google.com/assets/colab-badge.svg\" alt=\"Open In Colab\"/></a>"
      ]
    },
    {
      "cell_type": "code",
      "execution_count": null,
      "metadata": {
        "colab": {
          "base_uri": "https://localhost:8080/"
        },
        "id": "g_yt2aKLb_2M",
        "outputId": "bba546e1-2520-48fb-bbd5-1eb470a4277c"
      },
      "outputs": [
        {
          "output_type": "stream",
          "name": "stdout",
          "text": [
            "([3, -4, 0, 4], [2, -1, 8, 0], [4, 2, 3, 1], [1, 0, 5, -6])\n",
            "889\n"
          ]
        }
      ],
      "source": [
        "#numerical python\n",
        "\n",
        "import numpy as np\n",
        "\n",
        "A=([3, -4, 0, 4], [2, -1, 8, 0], [4, 2, 3, 1], [1, 0, 5, -6])\n",
        "print(A)\n",
        "\n",
        "detA= np.linalg.det(A)\n",
        "\n",
        "print(int(detA))"
      ]
    },
    {
      "cell_type": "code",
      "source": [
        "#numerical python\n",
        "\n",
        "import numpy as np\n",
        "\n",
        "A=([5, 24, -8], [22, 9, -13], [4, 15, -22])\n",
        "print(A)\n",
        "\n",
        "detA= np.linalg.det(A)\n",
        "\n",
        "print(int(detA))"
      ],
      "metadata": {
        "colab": {
          "base_uri": "https://localhost:8080/"
        },
        "id": "QzUynSeUdbTn",
        "outputId": "df0992f7-066c-4bef-ae2e-535d176ced1a"
      },
      "execution_count": null,
      "outputs": [
        {
          "output_type": "stream",
          "name": "stdout",
          "text": [
            "([5, 24, -8], [22, 9, -13], [4, 15, -22])\n",
            "8000\n"
          ]
        }
      ]
    }
  ]
}